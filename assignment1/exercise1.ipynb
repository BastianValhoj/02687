{
 "cells": [
  {
   "cell_type": "markdown",
   "metadata": {},
   "source": [
    "# Assignment 1\n",
    "## Exercise 1"
   ]
  },
  {
   "cell_type": "code",
   "execution_count": 94,
   "metadata": {},
   "outputs": [
    {
     "name": "stdout",
     "output_type": "stream",
     "text": [
      "IPython console for SymPy 1.13.3 (Python 3.11.11-64-bit) (ground types: gmpy)\n",
      "\n",
      "These commands were executed:\n",
      ">>> from sympy import *\n",
      ">>> x, y, z, t = symbols('x y z t')\n",
      ">>> k, m, n = symbols('k m n', integer=True)\n",
      ">>> f, g, h = symbols('f g h', cls=Function)\n",
      ">>> init_printing()\n",
      "\n",
      "Documentation can be found at https://docs.sympy.org/1.13.3/\n",
      "\n"
     ]
    }
   ],
   "source": [
    "from sympy import init_session\n",
    "from sympy.printing import latex, print_latex\n",
    "init_session()\n",
    "h = symbols(\"h\")"
   ]
  },
  {
   "cell_type": "code",
   "execution_count": 95,
   "metadata": {},
   "outputs": [
    {
     "data": {
      "image/png": "[encoded data removed]",
      "text/latex": [
       "$\\displaystyle 24$"
      ],
      "text/plain": [
       "24"
      ]
     },
     "execution_count": 95,
     "metadata": {},
     "output_type": "execute_result"
    }
   ],
   "source": [
    "def factorial(x):\n",
    "    if x == 0:\n",
    "        return 1\n",
    "    else:\n",
    "        return x*factorial(x-1)\n",
    "factorial(4)"
   ]
  },
  {
   "cell_type": "code",
   "execution_count": 107,
   "metadata": {},
   "outputs": [
    {
     "data": {
      "image/png": "[encoded data removed]",
      "text/latex": [
       "$\\displaystyle \\left[\\begin{matrix}1 & 1 & 1 & 1 & 1\\\\- 4 h & - 3 h & - 2 h & - h & 0\\\\8 h^{2} & \\frac{9 h^{2}}{2} & 2 h^{2} & \\frac{h^{2}}{2} & 0\\\\- \\frac{32 h^{3}}{3} & - \\frac{9 h^{3}}{2} & - \\frac{4 h^{3}}{3} & - \\frac{h^{3}}{6} & 0\\\\\\frac{32 h^{4}}{3} & \\frac{27 h^{4}}{8} & \\frac{2 h^{4}}{3} & \\frac{h^{4}}{24} & 0\\end{matrix}\\right]$"
      ],
      "text/plain": [
       "⎡   1       1       1      1    1⎤\n",
       "⎢                                ⎥\n",
       "⎢ -4⋅h     -3⋅h    -2⋅h    -h   0⎥\n",
       "⎢                                ⎥\n",
       "⎢             2             2    ⎥\n",
       "⎢    2     9⋅h        2    h     ⎥\n",
       "⎢ 8⋅h      ────    2⋅h     ──   0⎥\n",
       "⎢           2              2     ⎥\n",
       "⎢                                ⎥\n",
       "⎢     3       3       3     3    ⎥\n",
       "⎢-32⋅h    -9⋅h    -4⋅h    -h     ⎥\n",
       "⎢───────  ──────  ──────  ────  0⎥\n",
       "⎢   3       2       3      6     ⎥\n",
       "⎢                                ⎥\n",
       "⎢     4       4       4     4    ⎥\n",
       "⎢ 32⋅h    27⋅h     2⋅h     h     ⎥\n",
       "⎢ ─────   ─────    ────    ──   0⎥\n",
       "⎣   3       8       3      24    ⎦"
      ]
     },
     "execution_count": 107,
     "metadata": {},
     "output_type": "execute_result"
    }
   ],
   "source": [
    "a = lambda m, n: (m*h)**n / factorial(n)\n",
    "def myMatrix(alpha, beta):\n",
    "    stencil_range = range(-alpha, beta+1)\n",
    "    return Matrix([[a(m,n) for m in stencil_range] for n in range(len(stencil_range))])\n",
    "# AA = Matrix([[a(-4, 0), a(-3, 0), a(-2, 0), a(-1, 0), a(0, 0)],\n",
    "#             [a(-4, 1), a(-3, 1), a(-2, 1), a(-1, 1), a(0, 1)],\n",
    "#             [a(-4, 2), a(-3, 2), a(-2, 2), a(-1, 2), a(0, 2)],\n",
    "#             [a(-4, 3), a(-3, 3), a(-2, 3), a(-1, 3), a(0, 3)],\n",
    "#             [a(-4, 4), a(-3, 4), a(-2, 4), a(-1, 4), a(0, 4)]])\n",
    "# A = Matrix([[a(m, n) for m in stencil] for n in len(stencil)])\n",
    "A = myMatrix(4, 0)\n",
    "A"
   ]
  },
  {
   "cell_type": "code",
   "execution_count": 108,
   "metadata": {},
   "outputs": [
    {
     "data": {
      "image/png": "[encoded data removed]",
      "text/latex": [
       "$\\displaystyle \\left[\\begin{matrix}0\\\\0\\\\1\\\\0\\\\0\\end{matrix}\\right]$"
      ],
      "text/plain": [
       "⎡0⎤\n",
       "⎢ ⎥\n",
       "⎢0⎥\n",
       "⎢ ⎥\n",
       "⎢1⎥\n",
       "⎢ ⎥\n",
       "⎢0⎥\n",
       "⎢ ⎥\n",
       "⎣0⎦"
      ]
     },
     "execution_count": 108,
     "metadata": {},
     "output_type": "execute_result"
    }
   ],
   "source": [
    "vec = Matrix([[i] for i in [0, 0, 1, 0, 0]])\n",
    "vec"
   ]
  },
  {
   "cell_type": "code",
   "execution_count": 109,
   "metadata": {},
   "outputs": [],
   "source": [
    "res1 = A.inv()*vec"
   ]
  },
  {
   "cell_type": "code",
   "execution_count": 110,
   "metadata": {},
   "outputs": [
    {
     "name": "stdout",
     "output_type": "stream",
     "text": [
      "\\left[\\begin{matrix}\\frac{11}{12 h^{2}} & - \\frac{14}{3 h^{2}} & \\frac{19}{2 h^{2}} & - \\frac{26}{3 h^{2}} & \\frac{35}{12 h^{2}}\\end{matrix}\\right]\n"
     ]
    }
   ],
   "source": [
    "print_latex(res1.T)"
   ]
  },
  {
   "cell_type": "code",
   "execution_count": 111,
   "metadata": {},
   "outputs": [
    {
     "data": {
      "image/png": "[encoded data removed]",
      "text/latex": [
       "$\\displaystyle \\left[\\begin{matrix}1 & 1 & 1 & 1 & 1\\\\- 2 h & - h & 0 & h & 2 h\\\\2 h^{2} & \\frac{h^{2}}{2} & 0 & \\frac{h^{2}}{2} & 2 h^{2}\\\\- \\frac{4 h^{3}}{3} & - \\frac{h^{3}}{6} & 0 & \\frac{h^{3}}{6} & \\frac{4 h^{3}}{3}\\\\\\frac{2 h^{4}}{3} & \\frac{h^{4}}{24} & 0 & \\frac{h^{4}}{24} & \\frac{2 h^{4}}{3}\\end{matrix}\\right]$"
      ],
      "text/plain": [
       "⎡  1      1    1  1    1  ⎤\n",
       "⎢                         ⎥\n",
       "⎢ -2⋅h    -h   0  h   2⋅h ⎥\n",
       "⎢                         ⎥\n",
       "⎢          2       2      ⎥\n",
       "⎢    2    h       h      2⎥\n",
       "⎢ 2⋅h     ──   0  ──  2⋅h ⎥\n",
       "⎢         2       2       ⎥\n",
       "⎢                         ⎥\n",
       "⎢    3     3       3     3⎥\n",
       "⎢-4⋅h    -h       h   4⋅h ⎥\n",
       "⎢──────  ────  0  ──  ────⎥\n",
       "⎢  3      6       6    3  ⎥\n",
       "⎢                         ⎥\n",
       "⎢    4     4       4     4⎥\n",
       "⎢ 2⋅h     h       h   2⋅h ⎥\n",
       "⎢ ────    ──   0  ──  ────⎥\n",
       "⎣  3      24      24   3  ⎦"
      ]
     },
     "execution_count": 111,
     "metadata": {},
     "output_type": "execute_result"
    }
   ],
   "source": [
    "B = myMatrix(2, 2)\n",
    "B"
   ]
  },
  {
   "cell_type": "code",
   "execution_count": 112,
   "metadata": {},
   "outputs": [
    {
     "data": {
      "image/png": "[encoded data removed]",
      "text/latex": [
       "$\\displaystyle \\left[\\begin{matrix}- \\frac{1}{12 h^{2}}\\\\\\frac{4}{3 h^{2}}\\\\- \\frac{5}{2 h^{2}}\\\\\\frac{4}{3 h^{2}}\\\\- \\frac{1}{12 h^{2}}\\end{matrix}\\right]$"
      ],
      "text/plain": [
       "⎡ -1  ⎤\n",
       "⎢─────⎥\n",
       "⎢    2⎥\n",
       "⎢12⋅h ⎥\n",
       "⎢     ⎥\n",
       "⎢ 4   ⎥\n",
       "⎢──── ⎥\n",
       "⎢   2 ⎥\n",
       "⎢3⋅h  ⎥\n",
       "⎢     ⎥\n",
       "⎢-5   ⎥\n",
       "⎢──── ⎥\n",
       "⎢   2 ⎥\n",
       "⎢2⋅h  ⎥\n",
       "⎢     ⎥\n",
       "⎢ 4   ⎥\n",
       "⎢──── ⎥\n",
       "⎢   2 ⎥\n",
       "⎢3⋅h  ⎥\n",
       "⎢     ⎥\n",
       "⎢ -1  ⎥\n",
       "⎢─────⎥\n",
       "⎢    2⎥\n",
       "⎣12⋅h ⎦"
      ]
     },
     "execution_count": 112,
     "metadata": {},
     "output_type": "execute_result"
    }
   ],
   "source": [
    "res2 = B.inv()*vec\n",
    "res2"
   ]
  },
  {
   "cell_type": "code",
   "execution_count": 102,
   "metadata": {},
   "outputs": [
    {
     "name": "stdout",
     "output_type": "stream",
     "text": [
      "\\left[\\begin{matrix}- 0.0833333333333335 h^{2} & 1.33333333333333 h^{2} & - 2.5 h^{2} & 1.33333333333333 h^{2} & - 0.0833333333333335 h^{2}\\end{matrix}\\right]\n"
     ]
    }
   ],
   "source": [
    "print_latex(res2.T)"
   ]
  },
  {
   "cell_type": "markdown",
   "metadata": {},
   "source": [
    "## Exercise 1.b)"
   ]
  },
  {
   "cell_type": "markdown",
   "metadata": {},
   "source": [
    "$$\\begin{align}\n",
    "    &&C_n &= -\\delta_{nq}h^{-1} + \\sum_{m=-\\alpha}^\\beta a_m\\frac{m^n}{n!}\n",
    "    \\\\\n",
    "    &&\\Rightarrow C_n &= -\\delta_{n2}h^{-n} + \\sum_{m=-\\alpha}^\\beta a_m\\frac{m^2}{n!}\n",
    "    \\\\\n",
    "    (\\alpha,\\beta) = (4,0): && \\quad C_2 &= h^{-2} + \\left(a_{-4}(-4)^2 + a_{-3}(-3)^2 + a_{-2}(-2)^2 + a_{-1}(-1)^2\\right)\\frac{1}{2}\n",
    "    \\\\\n",
    "    && &= h^{-2} + \\left(\\frac{11}{12}16 - \\frac{14}{3}9  + \\frac{19}{2}4 - \\frac{26}{3}\\right)\\frac{1}{2h^2}\n",
    "\\end{align}$$"
   ]
  },
  {
   "cell_type": "code",
   "execution_count": 252,
   "metadata": {},
   "outputs": [
    {
     "name": "stdout",
     "output_type": "stream",
     "text": [
      "C_0 = 0\n",
      "C_1 = 0\n",
      "C_2 = 0\n",
      "C_3 = 0\n",
      "C_4 = 0\n",
      "C_5 = 0\n",
      "C_6 = -0.0111111111111111/h**2\n",
      "C_7 = 0\n"
     ]
    }
   ],
   "source": [
    "import numpy as np\n",
    "def delta(n,q):\n",
    "    if n == q:\n",
    "        return 1\n",
    "    else: \n",
    "        return 0\n",
    "q = 2\n",
    "h_tmp = h\n",
    "alpha, beta = 2, 2\n",
    "for n in range(0, 8):\n",
    "    tmp_res = - delta(n, q)/h**n + (res2.T * Matrix([m**n/factorial(n) for m in range(-alpha, beta+1)]))[0]\n",
    "    tmp_res = tmp_res.subs(h, h_tmp)\n",
    "    if (\"h\" in str(tmp_res)) and (np.abs(tmp_res*h**2) < 1e-14):\n",
    "        tmp_res = 0\n",
    "    print(f\"C_{n} = {tmp_res}\")"
   ]
  },
  {
   "cell_type": "code",
   "execution_count": 266,
   "metadata": {},
   "outputs": [
    {
     "name": "stdout",
     "output_type": "stream",
     "text": [
      "C_0 = 0\n",
      "C_1 = 0\n",
      "C_2 = 0\n",
      "C_3 = 0\n",
      "C_4 = 0\n",
      "C_5 = 0\n",
      "C_6 = -1/(90*h**2)\n",
      "C_7 = 0\n",
      "C_8 = -1/(1008*h**2)\n",
      "C_9 = 0\n",
      "C_10 = -1/(21600*h**2)\n"
     ]
    }
   ],
   "source": [
    "alpha, beta = 2, 2\n",
    "n_max = 10\n",
    "for n in range(0, n_max+1):\n",
    "    Cn = - delta(n,2)/h**q\n",
    "    for m, a_m in zip(range(-alpha, beta+1), res2):\n",
    "        Cn += a_m * (m)**n / factorial(n)\n",
    "    pprint(f\"C_{n} = {Cn}\") "
   ]
  },
  {
   "cell_type": "markdown",
   "metadata": {},
   "source": [
    "## Exercise 1.c)"
   ]
  },
  {
   "cell_type": "code",
   "execution_count": 330,
   "metadata": {},
   "outputs": [
    {
     "data": {
      "text/plain": [
       "array([ 0.91666667, -4.66666667,  9.5       , -8.66666667,  2.91666667])"
      ]
     },
     "execution_count": 330,
     "metadata": {},
     "output_type": "execute_result"
    }
   ],
   "source": [
    "from scipy.special import factorial\n",
    "from scipy import linalg\n",
    "import numpy as np\n",
    "\n",
    "def fdcoeff(k, stencil):\n",
    "    N = len(stencil)\n",
    "    # A = np.empty(shape=(N, N))\n",
    "    # for j, m in enumerate(stencil):\n",
    "    #     for i, n in enumerate(range(N)):\n",
    "    #         A[i,j] = m**n/factorial(n)\n",
    "    A = np.array([[m**n/factorial(n) for m in stencil] for n in range(N)])\n",
    "    b = np.zeros(N)\n",
    "    b[k] = 1\n",
    "    return linalg.solve(A, b)\n",
    "fdcoeff(2, range(-4, 1))"
   ]
  },
  {
   "cell_type": "code",
   "execution_count": 335,
   "metadata": {},
   "outputs": [
    {
     "data": {
      "text/plain": [
       "numpy.float64"
      ]
     },
     "execution_count": 335,
     "metadata": {},
     "output_type": "execute_result"
    }
   ],
   "source": [
    "def fdm(func, k, xbar, stencil, h=1e-2):\n",
    "    x = xbar + np.array(stencil)*h\n",
    "    am = fdcoeff(k, stencil) # get coefficients\n",
    "    return (func(x) @ am) / h**k\n",
    "\n",
    "# define u(x), u'(x), and u''(x)\n",
    "u = lambda x: np.exp(np.cos(x))\n",
    "dudx2 = lambda x: (np.sin(x)**2 - np.cos(x)) * np.exp(np.cos(x))\n",
    "dudx = lambda x: -np.sin(x)*np.exp(np.cos(x))\n",
    "\n",
    "xbar = 0\n",
    "alpha, beta = 2, 2\n",
    "stencil_center = np.arange(-alpha, beta+1)\n",
    "err = np.abs(dudx2(xbar) - fdm(u, 2, xbar, stencil_center, h=1/2))"
   ]
  },
  {
   "cell_type": "code",
   "execution_count": null,
   "metadata": {},
   "outputs": [],
   "source": []
  }
 ],
 "metadata": {
  "kernelspec": {
   "display_name": "10325",
   "language": "python",
   "name": "python3"
  },
  "language_info": {
   "codemirror_mode": {
    "name": "ipython",
    "version": 3
   },
   "file_extension": ".py",
   "mimetype": "text/x-python",
   "name": "python",
   "nbconvert_exporter": "python",
   "pygments_lexer": "ipython3",
   "version": "3.11.11"
  }
 },
 "nbformat": 4,
 "nbformat_minor": 2
}

{
 "cells": [
  {
   "cell_type": "code",
   "execution_count": 1,
   "metadata": {},
   "outputs": [],
   "source": [
    "import numpy as np\n",
    "from scipy import linalg\n",
    "import scipy.sparse.linalg as splinalg\n",
    "from scipy.sparse import csc_matrix, diags\n",
    "\n",
    "# plotting\n",
    "import matplotlib.pyplot as plt\n",
    "from matplotlib import gridspec\n",
    "from mpl_toolkits.mplot3d import Axes3D"
   ]
  },
  {
   "cell_type": "markdown",
   "metadata": {},
   "source": [
    "## helper functions"
   ]
  },
  {
   "cell_type": "code",
   "execution_count": 2,
   "metadata": {},
   "outputs": [],
   "source": [
    "def printmatrix(mat, **kwargs):\n",
    "    fp = kwargs.get(\"fp\", 3)    # number of floating points\n",
    "    bs = kwargs.get(\"bs\", 8)   # number of blank-spaces\n",
    "    format_dict = {\n",
    "        'float_kind': lambda x: f\"{x:>{bs}.{fp}f}\",\n",
    "        'bool': lambda x: False if x == 0 else True,\n",
    "        }\n",
    "    formatter = kwargs.get(\"formatter\", format_dict)\n",
    "    linewidth = kwargs.get(\"linewidth\", None)\n",
    "    if linewidth is None:\n",
    "        linewidth = kwargs.get(\"lw\", 100)\n",
    "    with np.printoptions(formatter=formatter, linewidth=linewidth):\n",
    "        print(mat)"
   ]
  },
  {
   "cell_type": "markdown",
   "metadata": {},
   "source": [
    "# Exercise 2b) 5- and 9-point Laplacian"
   ]
  },
  {
   "cell_type": "markdown",
   "metadata": {},
   "source": [
    "## c) Implement 5-point Laplacian scheme. Check expected convergence\n",
    "Use the exact solution:\n",
    "$$\\begin{align*}\n",
    "    u_\\mathrm{exact}(x,y) &= \\sin{\\left(4\\pi(x + y)\\right)} + \\cos{\\left(4\\pi xy\\right)}\n",
    "\\end{align*}$$"
   ]
  },
  {
   "cell_type": "markdown",
   "metadata": {},
   "source": [
    "## The 5-point Laplacian"
   ]
  },
  {
   "cell_type": "markdown",
   "metadata": {},
   "source": [
    "Let $u_{ij} = u(x_i, y_j)$, for a step-size equal in $x$ and $y$\n",
    "$$\\begin{align*}\n",
    "    \\nabla^2 u &= \\frac{\\partial^2 u}{\\partial x^2} + \\frac{\\partial^2 u}{\\partial y^2}\n",
    "    \\\\\n",
    "    \\frac{\\partial^2 u}{\\partial x^2} &\\approx \\frac{u_{i-1,j} - 2u_{ij} + u_{i+1,j}}{h^2}\n",
    "    \\\\\n",
    "    \\frac{\\partial^2 u}{\\partial y^2} &\\approx \\frac{u_{i,j-1} - 2u_{ij} + u_{i, j+1}}{h^2}\n",
    "    \\\\\n",
    "    \\nabla^2u &\\approx \\frac{u_{i-1,j} - 2u_{ij} + u_{i+1,j}}{h^2} + \\frac{u_{i,j-1} - 2u_{ij} + u_{i, j+1}}{h^2} \n",
    "    \\\\ &= \\frac{u_{i-1,j} + u_{i,j-1} - 4u_{ij} + u_{i+1,j} + u_{i,j+1}}{h^2}\n",
    "\n",
    "\\end{align*}$$"
   ]
  },
  {
   "cell_type": "markdown",
   "metadata": {},
   "source": [
    "## Creating grid\n",
    "\n",
    "For computational relevancy we want to make the solution array $u_{ij}$ 2D $\\to$ 1D; if doing this row-wise we get\n",
    "\n",
    "$$\\begin{align*}\n",
    "    U = \\begin{bmatrix}\n",
    "        u_{00} & u_{10} & u_{20} \\\\\n",
    "        u_{01} & u_{11} & u_{21} \\\\\n",
    "        u_{02} & u_{12} & u_{22} \\\\\n",
    "    \\end{bmatrix}\n",
    "    \\to \n",
    "    \\begin{bmatrix}\n",
    "        u_{00} \\\\ u_{10} \\\\ u_{20} \\\\\n",
    "        u_{01} \\\\ u_{11} \\\\ u_{21} \\\\\n",
    "        u_{02} \\\\ u_{12} \\\\ u_{22} \\\\\n",
    "    \\end{bmatrix}\n",
    "\\end{align*}$$\n",
    "\n",
    "This gives us $N\\times N$ uknowns, and so the solution matrix, $A$, is $A\\in \\mathbb{R}^{N^2\\times N^2}$"
   ]
  },
  {
   "cell_type": "markdown",
   "metadata": {},
   "source": [
    "Remember, that for a 5-point Laplacian, we should have $u_{00} = u_{20} = {u_02} = u_{22} = 0$ and the left, right, top, and bottom neighbours, $u_{10} = u_{01} = u_{21} = u_{12} = 1$, and the center point should be $u_{11} = - 4$\n",
    "\n",
    "$$\\begin{align*}\n",
    "    A_{11} = \\begin{bmatrix}\n",
    "        0 & 1 & 0 \\\\\n",
    "        1 & -4 & 1 \\\\\n",
    "        0 & 1 & 0 \\\\\n",
    "    \\end{bmatrix}\n",
    "    \\to \n",
    "    \\begin{bmatrix}\n",
    "        0 & 1 & 0 &\n",
    "        1 & -4 & 1 &\n",
    "        0 & 1 & 0 \\\\\n",
    "    \\end{bmatrix}\n",
    "\\end{align*}$$\n",
    "\n",
    "for the $k$'th index $k:=k_{ij} = i + jN$."
   ]
  },
  {
   "cell_type": "markdown",
   "metadata": {},
   "source": [
    "So, for the 5-point Laplacian, the system matrix, $A$, should have\n",
    "* A diagonal of $k_{ii} = -4$\n",
    "* NN poitns of element $k_{i\\pm 1, j}, k_{i,k\\pm1} = 1$:\n",
    "    * $k_{i\\pm 1, j} = k_{ij} \\pm 1$\n",
    "    * $k_{i, j\\pm 1} = k_{ij} \\pm N$"
   ]
  },
  {
   "cell_type": "code",
   "execution_count": 21,
   "metadata": {},
   "outputs": [
    {
     "data": {
      "text/latex": [
       "$\\displaystyle \\nabla^2 = 16 \\pi^{2} \\left(- x^{2} \\cos{\\left(4 \\pi x y \\right)} - y^{2} \\cos{\\left(4 \\pi x y \\right)} - 2 \\sin{\\left(\\pi \\left(4 x + 4 y\\right) \\right)}\\right)$"
      ],
      "text/plain": [
       "<IPython.core.display.Math object>"
      ]
     },
     "metadata": {},
     "output_type": "display_data"
    }
   ],
   "source": [
    "from sympy import symbols, diff, sin, cos, pi, latex\n",
    "from IPython.display import Math\n",
    "x, y = symbols(\"x y\")\n",
    "u = sin(4*pi*(x + y)) + cos(4*pi*x*y)\n",
    "upp = u.diff(x,2) + u.diff(y,2)\n",
    "upp = upp.simplify()\n",
    "\n",
    "display(Math(rf\"$\\nabla^2 = {latex(upp)}$\"))"
   ]
  },
  {
   "cell_type": "markdown",
   "metadata": {},
   "source": [
    "We want to create a 5-point Laplacian, and we will compare it to a given function:\n",
    "$$\\begin{align*}\n",
    "    u_\\mathrm{exact}(x,y) &= \\sin{\\left(4\\pi(x + y)\\right)} + \\cos{\\left(4\\pi xy\\right)}\n",
    "    \\\\\n",
    "    \\nabla^2 u_\\mathrm{exact}(x,y) &= -(4\\pi)^2\\bigg( \\Big(x^2 + y^2\\Big) \\cos(4\\pi x y) + 2 \\sin(4\\pi(x+y))\\bigg)\n",
    "\\end{align*}$$"
   ]
  },
  {
   "cell_type": "code",
   "execution_count": null,
   "metadata": {},
   "outputs": [],
   "source": [
    "def u_exact(x, y):  \n",
    "    C = 4*np.pi\n",
    "    return np.sin(C*(x + y)) + np.cos(C*x*y)\n",
    "\n",
    "\n",
    "def RHS(x, y):\n",
    "    C = 4 * np.pi\n",
    "    return -C**2 * ( 2*np.sin(C*(x + y)) + (x**2 + y**2) * np.cos(C*x*y))\n",
    "\n",
    "def laplace_5_point(N, h):\n",
    "    # M = len(u) # number of interior points\n",
    "    size = N * N\n",
    "    \n",
    "    diag = -4*np.ones(size) /h**2\n",
    "    \n",
    "    off_diag = np.ones(size-1) /h**2\n",
    "    # off_diag[np.arange(1, size) % N == 0] = 0 # On boundary the value should be 0\n",
    "    \n",
    "    up_down_diag = np.ones(size - N) /h**2\n",
    "    \n",
    "    A = diags(diagonals=[up_down_diag, off_diag, diag, off_diag, up_down_diag], \n",
    "              offsets=[N, 1, 0, -1, -N], \n",
    "              shape=(size, size), format=\"csc\")\n",
    "    return A\n",
    "\n",
    "\n",
    "def solve_poisson(N):\n",
    "    h = 1/(N+1)\n",
    "    # xy = np.arange(0, 1, step=h)\n",
    "    xy = np.linspace(0, 1, num=N)\n",
    "    X, Y = np.meshgrid(xy, xy, indexing=\"xy\")\n",
    "    \n",
    "    X_interior = X[1:-1, 1:-1]\n",
    "    Y_interior = Y[1:-1, 1:-1]\n",
    "    \n",
    "    \n",
    "    f = RHS(X_interior, Y_interior).flatten()\n",
    "    A = laplace_5_point(N, h)\n",
    "    u_h = splinalg.spsolve(A, f)\n",
    "    return X, Y, u_h, h\n",
    "\n",
    "def convergence(grid_sizes):\n",
    "    errors = []\n",
    "    h_values = []\n",
    "    \n",
    "    \n",
    "    for N in grid_sizes:\n",
    "        X, Y, u_h, h = solve_poisson(N)\n",
    "        u_exact_vals = u_exact(X, Y).flatten()\n",
    "        # print(u_exact_vals.shape)\n",
    "        err = linalg.norm(u_h - u_exact_vals, np.inf)\n",
    "        errors.append(err)\n",
    "        h_values.append(h)\n",
    "        \n",
    "    return h_values, errors\n",
    "\n",
    "\n",
    "\n",
    "### For plotting imshow() and 3D\n",
    "# M = 80\n",
    "# xs = np.linspace(0, 1, num=M)[:, None]\n",
    "# ys = np.linspace(0, 1, num=M)[None, :]\n",
    "# X, Y = np.meshgrid(xs, ys, indexing=\"ij\")\n",
    "\n",
    "# f = RHS(xs, ys)\n",
    "# A = laplace_5_point(M)\n",
    "# U = splinalg.spsolve(A, csc_matrix(f.flatten()).T).reshape(M, M)\n",
    "# U_EXACT = u_exact(xs, ys)\n",
    "\n",
    "\n",
    "\n",
    "# ## Plotting\n",
    "# fig =  plt.figure(figsize=(10,12))\n",
    "# gs = gridspec.GridSpec(3, 2, height_ratios=(1, 1, 1))\n",
    "\n",
    "# ax1 = fig.add_subplot(gs[0, 0])\n",
    "# ax1.imshow(U_EXACT)\n",
    "# ax1.set_title(r\"$u_\\mathrm{exact}(x,y)$\", size=20)\n",
    "\n",
    "\n",
    "# ax2 = fig.add_subplot(gs[0, 1])\n",
    "# ax2.imshow(U)\n",
    "# ax2.set_title(\"5-point-Laplacian\", size=20)\n",
    "\n",
    "# # Add 3D surface plots\n",
    "# ax3 = fig.add_subplot(gs[1, 0], projection='3d')\n",
    "# ax4 = fig.add_subplot(gs[1, 1], projection='3d')\n",
    "\n",
    "# ax3.plot_surface(X, Y, U_EXACT)\n",
    "# ax4.plot_surface(X, Y, U)\n",
    "# fig.tight_layout()"
   ]
  },
  {
   "cell_type": "code",
   "execution_count": 45,
   "metadata": {},
   "outputs": [
    {
     "data": {
      "image/png": "[encoded data removed]",
      "text/plain": [
       "<Figure size 640x480 with 1 Axes>"
      ]
     },
     "metadata": {},
     "output_type": "display_data"
    }
   ],
   "source": [
    "LABELSIZE = 15\n",
    "\n",
    "fig, ax = plt.subplots()\n",
    "h_values, errors = convergence(np.arange(20, 300, step=20))\n",
    "ax.loglog(h_values, errors)\n",
    "ax.grid(visible=True, which=\"both\")\n",
    "ax.set_xlabel(\"$h$\", size=LABELSIZE)\n",
    "ax.set_ylabel(r\"Error $||e^h||_\\infty$\", size=LABELSIZE)\n",
    "ax.set_xticks(np.logspace(-3, 0, num=4))\n",
    "ax.tick_params(axis=\"both\", which=\"major\", labelsize=LABELSIZE-2)"
   ]
  },
  {
   "cell_type": "code",
   "execution_count": null,
   "metadata": {},
   "outputs": [
    {
     "data": {
      "text/plain": [
       "array([1.e-03, 1.e-02, 1.e-01, 1.e+00, 1.e+01])"
      ]
     },
     "execution_count": 34,
     "metadata": {},
     "output_type": "execute_result"
    }
   ],
   "source": []
  },
  {
   "cell_type": "code",
   "execution_count": 7,
   "metadata": {},
   "outputs": [
    {
     "name": "stdout",
     "output_type": "stream",
     "text": [
      "xy\n",
      "[ 0.0  0.1  0.2  0.3  0.4  0.5  0.6  0.7  0.8  0.9  1.0]\n",
      "X =\n",
      "[[ 0.0  0.1  0.2  0.3  0.4  0.5  0.6  0.7  0.8  0.9  1.0]\n",
      " [ 0.0  0.1  0.2  0.3  0.4  0.5  0.6  0.7  0.8  0.9  1.0]\n",
      " [ 0.0  0.1  0.2  0.3  0.4  0.5  0.6  0.7  0.8  0.9  1.0]\n",
      " [ 0.0  0.1  0.2  0.3  0.4  0.5  0.6  0.7  0.8  0.9  1.0]\n",
      " [ 0.0  0.1  0.2  0.3  0.4  0.5  0.6  0.7  0.8  0.9  1.0]\n",
      " [ 0.0  0.1  0.2  0.3  0.4  0.5  0.6  0.7  0.8  0.9  1.0]\n",
      " [ 0.0  0.1  0.2  0.3  0.4  0.5  0.6  0.7  0.8  0.9  1.0]\n",
      " [ 0.0  0.1  0.2  0.3  0.4  0.5  0.6  0.7  0.8  0.9  1.0]\n",
      " [ 0.0  0.1  0.2  0.3  0.4  0.5  0.6  0.7  0.8  0.9  1.0]\n",
      " [ 0.0  0.1  0.2  0.3  0.4  0.5  0.6  0.7  0.8  0.9  1.0]\n",
      " [ 0.0  0.1  0.2  0.3  0.4  0.5  0.6  0.7  0.8  0.9  1.0]]\n",
      "Y = \n",
      "[[ 0.0  0.0  0.0  0.0  0.0  0.0  0.0  0.0  0.0  0.0  0.0]\n",
      " [ 0.1  0.1  0.1  0.1  0.1  0.1  0.1  0.1  0.1  0.1  0.1]\n",
      " [ 0.2  0.2  0.2  0.2  0.2  0.2  0.2  0.2  0.2  0.2  0.2]\n",
      " [ 0.3  0.3  0.3  0.3  0.3  0.3  0.3  0.3  0.3  0.3  0.3]\n",
      " [ 0.4  0.4  0.4  0.4  0.4  0.4  0.4  0.4  0.4  0.4  0.4]\n",
      " [ 0.5  0.5  0.5  0.5  0.5  0.5  0.5  0.5  0.5  0.5  0.5]\n",
      " [ 0.6  0.6  0.6  0.6  0.6  0.6  0.6  0.6  0.6  0.6  0.6]\n",
      " [ 0.7  0.7  0.7  0.7  0.7  0.7  0.7  0.7  0.7  0.7  0.7]\n",
      " [ 0.8  0.8  0.8  0.8  0.8  0.8  0.8  0.8  0.8  0.8  0.8]\n",
      " [ 0.9  0.9  0.9  0.9  0.9  0.9  0.9  0.9  0.9  0.9  0.9]\n",
      " [ 1.0  1.0  1.0  1.0  1.0  1.0  1.0  1.0  1.0  1.0  1.0]]\n"
     ]
    }
   ],
   "source": [
    "xy = np.linspace(0, 1, 11)\n",
    "X, Y = np.meshgrid(xy, xy, indexing=\"xy\")\n",
    "\n",
    "print(\"xy\")\n",
    "printmatrix(xy, fp=1, bs=4)\n",
    "print(\"X =\")\n",
    "printmatrix(X, fp=1, bs=4)\n",
    "print(\"Y = \")\n",
    "printmatrix(Y, fp=1, bs=4)"
   ]
  }
 ],
 "metadata": {
  "kernelspec": {
   "display_name": "02687",
   "language": "python",
   "name": "python3"
  },
  "language_info": {
   "codemirror_mode": {
    "name": "ipython",
    "version": 3
   },
   "file_extension": ".py",
   "mimetype": "text/x-python",
   "name": "python",
   "nbconvert_exporter": "python",
   "pygments_lexer": "ipython3",
   "version": "3.13.2"
  }
 },
 "nbformat": 4,
 "nbformat_minor": 2
}

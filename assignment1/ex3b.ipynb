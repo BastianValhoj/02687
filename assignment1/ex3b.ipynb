{
 "cells": [
  {
   "cell_type": "code",
   "execution_count": 2,
   "metadata": {},
   "outputs": [],
   "source": [
    "import numpy as np\n",
    "import scipy.sparse.linalg as splin\n",
    "from scipy.sparse import diags, csc_matrix\n",
    "import scipy.linalg as linalg\n",
    "import matplotlib.pyplot as plt"
   ]
  },
  {
   "cell_type": "markdown",
   "metadata": {},
   "source": [
    "# Closed form expression of eigenvalues for 5-point Laplacian"
   ]
  },
  {
   "cell_type": "markdown",
   "metadata": {},
   "source": [
    "$$\\begin{align*}\n",
    "    \\nabla^2u_{lj} &= \\frac{u_{l+1,j} + u_{l-1,j} + u_{l,j+1} + u_{l,j-1} - 4u_{lj}}{h^2}\n",
    "    \\\\ \\\\ \n",
    "    \\text{Assume:} \\qquad & \n",
    "    \\\\\n",
    "        u_{ij} &= Ae^{i(k_xl +k_y j)}\n",
    "    \\\\ \\\\\n",
    "    \\text{Insert in Laplacian} \\qquad & \n",
    "    \\\\\n",
    "    \\lambda u_{lj} &= \\frac{u_{l+1,j} + u_{l-1,j} + u_{l,j+1} + u_{l,j-1} - 4u_{lj}}{h^2}\n",
    "    \\\\\n",
    "    \\lambda Ae^{i(k_xl + k_y j)} &= A\\frac{e^{i(k_x(l+1) + k_yj)} + e^{i(k_x(l-1) + k_yj)} + e^{i(k_xl + k_y(j+1))} + e^{i(k_xl + k_y(j-1))} - 4 e^{i(k_xl+ k_yj)}}{h^2}\n",
    "    \\\\\n",
    "            &= A\\frac{\n",
    "                u_{lj}e^{ik_x} + u_{lj}e^{- ik_x} + u_{lj}e^{ ik_y} + u_{lj}e^{- ik_y} - 4 u_{lj}\n",
    "            }{h^2}\n",
    "    \\\\ \\\\\n",
    "    \\text{Solve for $\\lambda$:} \\qquad & \\\\\n",
    "    \\lambda &= \\frac{\n",
    "        e^{ik_x} + e^{-ik_x} + e^{ik_y} + e^{-ik_y} - 4\n",
    "    }{h^2}\n",
    "    \\\\\n",
    "            &= \\frac{2\\cos{k_x} + 2\\cos{k_y} - 4}{h^2}\n",
    "\\end{align*}$$"
   ]
  },
  {
   "cell_type": "markdown",
   "metadata": {},
   "source": [
    "For grid-size $N\\times N$ (including boundary) and Dirichlet BC the allowed wave numbers are\n",
    "\n",
    "$$\\begin{align*}\n",
    "    k_x = \\frac{\\pi m}{N+1},\\quad k_y = \\frac{\\pi n}{N+1}, \\qquad m,n = 1,2,\\ldots, N-1\n",
    "\\end{align*}$$"
   ]
  },
  {
   "cell_type": "markdown",
   "metadata": {},
   "source": [
    "Resulting in the eigenvalues\n",
    "$$\n",
    "    \\lambda_{mn} = \\frac{2\\cos{\\frac{\\pi m}{N+1}} + 2 \\cos{\\frac{\\pi n}{N+1}} - 4}{h^2}\n",
    "$$"
   ]
  },
  {
   "cell_type": "code",
   "execution_count": 181,
   "metadata": {},
   "outputs": [
    {
     "name": "stdout",
     "output_type": "stream",
     "text": [
      "[[0. 0. 0. 0. 1.]\n",
      " [0. 0. 0. 0. 1.]\n",
      " [0. 0. 0. 0. 1.]\n",
      " [0. 0. 0. 0. 1.]\n",
      " [0. 0. 0. 0. 1.]]\n",
      "[0. 0. 0. 0. 1. 0. 0. 0. 0. 1. 0. 0. 0. 0. 1. 0. 0. 0. 0. 1. 0. 0. 0. 0.\n",
      " 1.]\n"
     ]
    },
    {
     "data": {
      "text/plain": [
       "array([[   0.,    0.,    0.,   36., -108.],\n",
       "       [   0.,    0.,    0.,   36.,  -72.],\n",
       "       [   0.,    0.,    0.,   36.,  -72.],\n",
       "       [   0.,    0.,    0.,   36.,  -72.],\n",
       "       [   0.,    0.,    0.,   36., -108.]])"
      ]
     },
     "execution_count": 181,
     "metadata": {},
     "output_type": "execute_result"
    }
   ],
   "source": [
    "def Amult(U, m):\n",
    "    h = 1/(m+1)\n",
    "    index = lambda x, y: x*m + y # row-wise indexing\n",
    "    AU = np.zeros((m**2, ))\n",
    "    for i in range(m): # i, j in [0, m-1] due to zero-indexing\n",
    "        for j in range(m):\n",
    "            AU[index(i,j)] -= 4*U[index(i, j)]\n",
    "            \n",
    "            # if-statements ensuring add element if within interior\n",
    "            if i < m-1:\n",
    "                AU[index(i,j)] +=   U[index(i+1, j)] \n",
    "            if i > 0:\n",
    "                AU[index(i,j)] +=   U[index(i-1, j)] \n",
    "            if j < m-1:\n",
    "                AU[index(i,j)] +=   U[index(i, j+1)] \n",
    "            if j > 0:\n",
    "                AU[index(i,j)] +=   U[index(i, j-1)] \n",
    "    return AU / h**2\n",
    "\n",
    "# number of interior points\n",
    "m = 5\n",
    "\n",
    "# our 2d grid intial guess\n",
    "U2D = np.zeros((m,m))\n",
    "U2D[:, 4] = 1\n",
    "print(U2D)\n",
    "\n",
    "# 1D representation\n",
    "U = U2D.flatten()\n",
    "print(U)\n",
    "Amult(U, m).reshape(m, m)"
   ]
  },
  {
   "cell_type": "code",
   "execution_count": null,
   "metadata": {},
   "outputs": [],
   "source": []
  }
 ],
 "metadata": {
  "kernelspec": {
   "display_name": "02687",
   "language": "python",
   "name": "python3"
  },
  "language_info": {
   "codemirror_mode": {
    "name": "ipython",
    "version": 3
   },
   "file_extension": ".py",
   "mimetype": "text/x-python",
   "name": "python",
   "nbconvert_exporter": "python",
   "pygments_lexer": "ipython3",
   "version": "3.13.2"
  }
 },
 "nbformat": 4,
 "nbformat_minor": 2
}

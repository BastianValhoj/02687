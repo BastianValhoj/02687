{
 "cells": [
  {
   "cell_type": "markdown",
   "id": "636c8cc4",
   "metadata": {},
   "source": [
    "# Exercise 2: Purely parabolic model problem"
   ]
  },
  {
   "cell_type": "markdown",
   "id": "98289e12",
   "metadata": {},
   "source": [
    "Consider the PDE:\n",
    "$$\\begin{align}\n",
    "    \\frac{\\partial u(x,t)}{\\partial t} = \\epsilon \\frac{\\partial^2 u(x,t)}{\\partial x^2} \\\\ -1< x < 1, \\quad 0 < t\n",
    "\\end{align}$$"
   ]
  },
  {
   "cell_type": "markdown",
   "id": "c79f679f",
   "metadata": {},
   "source": [
    "with Dirichlet boundary conditions:\n",
    "$$\\begin{align}\n",
    "    u(-1, t) &= g_L(t), \\quad t > 0 \\\\\n",
    "    u(1, t) &= g_R(t), \\quad t > 0 \\\\\n",
    "    u(x,0) &= \\eta(x), \\quad -1\\leq x \\leq 1\n",
    "\\end{align}$$"
   ]
  },
  {
   "cell_type": "markdown",
   "id": "19fe80ba",
   "metadata": {},
   "source": [
    "## Subtask 2.1) Deriving a FTCS scheme\n",
    "The temporal derivative uses the Forward finite difference:\n",
    "$$\\begin{align}\n",
    "    D_+u(x, \\bar{t}) = \\dfrac{u(x, \\bar{t} + k) - u(x,\\bar{t})}{k}\n",
    "\\end{align}$$\n"
   ]
  },
  {
   "cell_type": "markdown",
   "id": "2ffcd576",
   "metadata": {},
   "source": [
    "and the spatial uses the central finite differencing:\n",
    "$$\\begin{align}\n",
    "    D_0u(\\bar{x},t) = \\dfrac{u(\\bar{x} + h, t) - 2u(\\bar{x}, t) + u(\\bar{x} - h, t)}{h^2}\n",
    "\\end{align}$$"
   ]
  },
  {
   "cell_type": "markdown",
   "id": "6e417d05",
   "metadata": {
    "vscode": {
     "languageId": "plaintext"
    }
   },
   "source": [
    "Which combined gives:\n",
    "\n",
    "$$\\begin{align}\n",
    "    D_+u(x_i,t_j) &= \\epsilon D_0u(x_i,t_j) \\\\\n",
    "    \\dfrac{u(x_i, t_j + k) - u(x_i, t_j)}{k} &= \\epsilon\\dfrac{u(x_i + h, t_j) - 2u(x_i, t_j) + u(x_i - h, t_j)}{h^2}\n",
    "\\end{align}$$"
   ]
  },
  {
   "cell_type": "markdown",
   "id": "2e68d486",
   "metadata": {
    "vscode": {
     "languageId": "plaintext"
    }
   },
   "source": [
    "Using the notation of chapter 9 in Leveque: \n",
    "$$\\begin{align}\n",
    "    U_i^n = u(x_i, t_n) \\\\\n",
    "    \\frac{U_i^{n+1} - U_i^n}{k} = \\epsilon \\frac{U_{i+1}^n - 2U_i^n + U_{i-1}^n}{h^2}\n",
    "\\end{align}$$"
   ]
  },
  {
   "cell_type": "markdown",
   "id": "f76092e7",
   "metadata": {},
   "source": [
    "## 2.2) Criterion for $h$, $k$ in terms of $\\epsilon$ "
   ]
  },
  {
   "cell_type": "markdown",
   "id": "8d49c73c",
   "metadata": {
    "vscode": {
     "languageId": "plaintext"
    }
   },
   "source": [
    "We can write the the PDE to a semidiscrete method:\n",
    "$$\\begin{align}\n",
    "    U_i'(t) &= \\epsilon \\dfrac{U_{i+1}(t) - 2U_i(t) + U_{i1}(t)}{h^2},\\quad i=1,\\ 2,\\ \\ldots,\\ m\n",
    " \\\\\n",
    "    U'(t) &= AU(t) + g(t)\n",
    "\\end{align}$$\n",
    "\n",
    "with \n",
    "$$\\begin{align}\n",
    "    A = \\frac{\\epsilon}{h^2}\n",
    "        \\begin{pmatrix}\n",
    "            -2  &   1   &       &       &       &   \\\\ \n",
    "             1  &   -2  &   1   &       &       &   \\\\ \n",
    "                &   1   &   -2  &   1   &       &   \\\\ \n",
    "                &       & \\ddots&\\ddots &\\ddots &   \\\\ \n",
    "                &       &       &   1   &   -2  & 1 \\\\ \n",
    "                &       &       &       &   1   & -2\n",
    "        \\end{pmatrix}, \\quad \n",
    "    g(t) = \\frac{\\epsilon}{h^2}\n",
    "        \\begin{pmatrix}\n",
    "            g_L(t) \\\\ 0 \\\\ \\vdots \\\\ 0 \\\\ g_R(t)\n",
    "        \\end{pmatrix}\n",
    "\\end{align} $$"
   ]
  },
  {
   "cell_type": "markdown",
   "id": "93390910",
   "metadata": {},
   "source": [
    "This is called the *__method of lines__* (MOL)."
   ]
  },
  {
   "cell_type": "markdown",
   "id": "4fc4dc6d",
   "metadata": {},
   "source": [
    "According to section 9.3 in Leveque, if $k\\lambda_p \\in \\mathcal{S}$ the method is stable.\n",
    "From the book we also note the eigenvalues of the matrix, $A$ as"
   ]
  },
  {
   "cell_type": "markdown",
   "id": "b32089bf",
   "metadata": {},
   "source": [
    "$$\n",
    "    \\lambda_p = \\frac{2\\epsilon}{h^2}\\left(\\cos{(p\\pi h)} - 1\\right), \\quad p = 1,\\ 2,\\ \\ldots,\\ m"
   ]
  },
  {
   "cell_type": "markdown",
   "id": "a08947ad",
   "metadata": {
    "vscode": {
     "languageId": "plaintext"
    }
   },
   "source": [
    "Now, since we can set the RHS to the system of equations from the spatial central difference scheme, the LHS uses the forward time scheme:\n",
    "\n",
    "$$\n",
    "\\frac{U^{n+1} - U^n}{k} = AU^n\n",
    "$$\n",
    "\n",
    "(we have not included $g(t)$ as the expression is for the interior points only).\n",
    "Now rewriting the expression:\n",
    "\n",
    "$$\n",
    "U^{n+1} = (I + kA)U^n\n",
    "$$\n",
    "\n",
    "Here we recognize that $U^n$ is a vector of spatial values for the time step $n$. The region of absolute stability is then: $|1 + k \\lambda_p| \\leq 1$ (see eqn. 7.20) for one step linear methods.\n",
    "\n",
    "We know the eigenvalues of the matrix $A$ and we stated it earlier (including the epsilon factor), and so we can rewrite the region of sability as \n",
    "$$\\begin{align}\n",
    "    \\mathcal{S} &= \\Big\\{k\\lambda_p \\in \\mathbb{C} \\ :\\ |1 + k \\lambda_p| \\leq 1 \\Big\\} \\\\\n",
    "    \\left|1 + k\\frac{2\\epsilon}{h^2}(\\cos{(p\\pi h)} - 1)\\right| &\\leq 1\n",
    "\\end{align}$$\n",
    "\n",
    "with the LHS being largest when the cosine goes to $-1$, wo we can limit this as\n",
    "$$\\begin{align}\n",
    "    \\left|1 + k\\frac{2\\epsilon}{h^2}(\\cos{(p\\pi h)} - 1)\\right| \\leq \\left|1 - k\\frac{4\\epsilon}{h^2}\\right| &\\leq 1 \\\\\n",
    "    -1\\leq 1 - k\\frac{4\\epsilon}{h^2} &\\leq 1 \\\\\n",
    "    -2 \\leq - k \\frac{4\\epsilon}{h^2} &\\leq 0 \\\\\n",
    "    \\Rightarrow \\frac{1}{2\\epsilon} &\\geq \\frac{k}{h^2}\n",
    "\\end{align}$$"
   ]
  },
  {
   "cell_type": "markdown",
   "id": "72edc7dd",
   "metadata": {},
   "source": []
  }
 ],
 "metadata": {
  "language_info": {
   "name": "python"
  }
 },
 "nbformat": 4,
 "nbformat_minor": 5
}

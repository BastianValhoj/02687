{
 "cells": [
  {
   "cell_type": "markdown",
   "id": "636c8cc4",
   "metadata": {},
   "source": [
    "# Exercise 2: Purely parabolic model problem"
   ]
  },
  {
   "cell_type": "markdown",
   "id": "98289e12",
   "metadata": {},
   "source": [
    "Consider the PDE:\n",
    "$$\\begin{align}\n",
    "    \\frac{\\partial u(x,t)}{\\partial t} = \\epsilon \\frac{\\partial^2 u(x,t)}{\\partial x^2} \\\\ -1< x < 1, \\quad 0 < t\n",
    "\\end{align}$$"
   ]
  },
  {
   "cell_type": "markdown",
   "id": "c79f679f",
   "metadata": {},
   "source": [
    "with Dirichlet boundary conditions:\n",
    "$$\\begin{align}\n",
    "    u(-1, t) &= g_L(t), \\quad t > 0 \\\\\n",
    "    u(1, t) &= g_R(t), \\quad t > 0 \\\\\n",
    "    u(x,0) &= \\eta(x), \\quad -1\\leq x \\leq 1\n",
    "\\end{align}$$"
   ]
  },
  {
   "cell_type": "markdown",
   "id": "19fe80ba",
   "metadata": {},
   "source": [
    "## Subtask 2.1) Deriving a FTCS scheme\n",
    "The temporal derivative uses the Forward finite difference:\n",
    "$$\\begin{align}\n",
    "    D_+u(x, \\bar{t}) = \\dfrac{u(x, \\bar{t} + k) - u(x,\\bar{t})}{k}\n",
    "\\end{align}$$\n"
   ]
  },
  {
   "cell_type": "markdown",
   "id": "2ffcd576",
   "metadata": {},
   "source": [
    "and the spatial uses the central finite differencing:\n",
    "$$\\begin{align}\n",
    "    D_0u(\\bar{x},t) = \\dfrac{u(\\bar{x} + h, t) - 2u(\\bar{x}, t) + u(\\bar{x} - h, t)}{h^2}\n",
    "\\end{align}$$"
   ]
  },
  {
   "cell_type": "markdown",
   "id": "6e417d05",
   "metadata": {
    "vscode": {
     "languageId": "plaintext"
    }
   },
   "source": [
    "Which combined gives:\n",
    "\n",
    "$$\\begin{align}\n",
    "    D_+u(x_i,t_j) &= \\epsilon D_0u(x_i,t_j) \\\\\n",
    "    \\dfrac{u(x_i, t_j + k) - u(x_i, t_j)}{k} &= \\epsilon\\dfrac{u(x_i + h, t_j) - 2u(x_i, t_j) + u(x_i - h, t_j)}{h^2}\n",
    "\\end{align}$$"
   ]
  },
  {
   "cell_type": "markdown",
   "id": "2e68d486",
   "metadata": {
    "vscode": {
     "languageId": "plaintext"
    }
   },
   "source": [
    "Using the notation of chapter 9 in Leveque: \n",
    "$$\\begin{align}\n",
    "    U_i^n = u(x_i, t_n) \\\\\n",
    "    \\frac{U_i^{n+1} - U_i^n}{k} = \\epsilon \\frac{U_{i+1}^n - 2U_i^n + U_{i-1}^n}{h^2}\n",
    "\\end{align}$$"
   ]
  },
  {
   "cell_type": "markdown",
   "id": "f76092e7",
   "metadata": {},
   "source": [
    "## 2.2) Criterion for $h$, $k$ in terms of $\\epsilon$ "
   ]
  },
  {
   "cell_type": "markdown",
   "id": "8d49c73c",
   "metadata": {
    "vscode": {
     "languageId": "plaintext"
    }
   },
   "source": [
    "We can write the the PDE to a semidiscrete method:\n",
    "$$\\begin{align}\n",
    "    U_i'(t) &= \\epsilon \\dfrac{U_{i+1}(t) - 2U_i(t) + U_{i1}(t)}{h^2},\\quad i=1,\\ 2,\\ \\ldots,\\ m\n",
    " \\\\\n",
    "    U'(t) &= AU(t) + g(t)\n",
    "\\end{align}$$\n",
    "\n",
    "with \n",
    "$$\\begin{align}\n",
    "    A = \\frac{\\epsilon}{h^2}\n",
    "        \\begin{pmatrix}\n",
    "            -2  &   1   &       &       &       &   \\\\ \n",
    "             1  &   -2  &   1   &       &       &   \\\\ \n",
    "                &   1   &   -2  &   1   &       &   \\\\ \n",
    "                &       & \\ddots&\\ddots &\\ddots &   \\\\ \n",
    "                &       &       &   1   &   -2  & 1 \\\\ \n",
    "                &       &       &       &   1   & -2\n",
    "        \\end{pmatrix}, \\quad \n",
    "    g(t) = \\frac{\\epsilon}{h^2}\n",
    "        \\begin{pmatrix}\n",
    "            g_L(t) \\\\ 0 \\\\ \\vdots \\\\ 0 \\\\ g_R(t)\n",
    "        \\end{pmatrix}\n",
    "\\end{align} $$"
   ]
  },
  {
   "cell_type": "markdown",
   "id": "93390910",
   "metadata": {},
   "source": [
    "This is called the *__method of lines__* (MOL)."
   ]
  },
  {
   "cell_type": "markdown",
   "id": "4fc4dc6d",
   "metadata": {},
   "source": [
    "According to section 9.3 in Leveque, if $k\\lambda_p \\in \\mathcal{S}$ the method is stable.\n",
    "From the book we also note the eigenvalues of the matrix, $A$ as"
   ]
  },
  {
   "cell_type": "markdown",
   "id": "b32089bf",
   "metadata": {},
   "source": [
    "$$\n",
    "    \\lambda_p = \\frac{2\\epsilon}{h^2}\\left(\\cos{(p\\pi h)} - 1\\right), \\quad p = 1,\\ 2,\\ \\ldots,\\ m"
   ]
  },
  {
   "cell_type": "markdown",
   "id": "a08947ad",
   "metadata": {
    "vscode": {
     "languageId": "plaintext"
    }
   },
   "source": [
    "Now, since we can set the RHS to the system of equations from the spatial central difference scheme, the LHS uses the forward time scheme:\n",
    "\n",
    "$$\n",
    "\\frac{U^{n+1} - U^n}{k} = AU^n\n",
    "$$\n",
    "\n",
    "(we have not included $g(t)$ as the expression is for the interior points only).\n",
    "Now rewriting the expression:\n",
    "\n",
    "$$\n",
    "U^{n+1} = (I + kA)U^n\n",
    "$$\n",
    "\n",
    "Here we recognize that $U^n$ is a vector of spatial values for the time step $n$. The region of absolute stability is then: $|1 + k \\lambda_p| \\leq 1$ (see eqn. 7.20) for one step linear methods.\n",
    "\n",
    "We know the eigenvalues of the matrix $A$ and we stated it earlier (including the epsilon factor), and so we can rewrite the region of sability as \n",
    "$$\\begin{align}\n",
    "    \\mathcal{S} &= \\Big\\{k\\lambda_p \\in \\mathbb{C} \\ :\\ |1 + k \\lambda_p| \\leq 1 \\Big\\} \\\\\n",
    "    \\left|1 + k\\frac{2\\epsilon}{h^2}(\\cos{(p\\pi h)} - 1)\\right| &\\leq 1\n",
    "\\end{align}$$\n",
    "\n",
    "with the LHS being largest when the cosine goes to $-1$, wo we can limit this as\n",
    "$$\\begin{align}\n",
    "    \\left|1 + k\\frac{2\\epsilon}{h^2}(\\cos{(p\\pi h)} - 1)\\right| \\leq \\left|1 - k\\frac{4\\epsilon}{h^2}\\right| &\\leq 1 \\\\\n",
    "    -1\\leq 1 - k\\frac{4\\epsilon}{h^2} &\\leq 1 \\\\\n",
    "    -2 \\leq - k \\frac{4\\epsilon}{h^2} &\\leq 0 \\\\\n",
    "    \\Rightarrow \\frac{1}{2\\epsilon} &\\geq \\frac{k}{h^2}\n",
    "\\end{align}$$"
   ]
  },
  {
   "cell_type": "markdown",
   "id": "72edc7dd",
   "metadata": {},
   "source": [
    "## 2.3) Discrete Maximum Principle"
   ]
  },
  {
   "cell_type": "markdown",
   "id": "e2e2f8d2",
   "metadata": {},
   "source": [
    "The Semi-discrete variation of the heat diffusion equation"
   ]
  },
  {
   "cell_type": "markdown",
   "id": "0dd8154a",
   "metadata": {},
   "source": [
    "$$\\begin{align}\n",
    "    U^{n+1}_i &=  U^n_i + \\mu\\left(U_{i+1}^n - 2U_i^{n} + U_{i-1}^n\\right) , \\quad \\mu = k\\frac{\\epsilon}{h^2}, \\\\\n",
    "        &= (1 - 2\\mu)U_i^n + \\mu(U_{i+1}^n + U_{i-1}^n) \\\\\n",
    "    \\text{If}:\\ \\mu \\leq \\frac12,\\quad U_\\mathrm{min}^n &\\leq U_i^n \\leq U_\\mathrm{max}^n\n",
    "\\end{align}$$"
   ]
  },
  {
   "cell_type": "markdown",
   "id": "12e0488e",
   "metadata": {},
   "source": [
    "With \n",
    "$$\\begin{align}\n",
    "    U_\\mathrm{min}^n &= \\min{\\Big(U_0^p, U_M^p, U_i^0\\Big)}, \\quad p \\in [0,\\ n],\\quad i \\in [0,\\ M] \\\\\n",
    "    U_\\mathrm{max}^n &= \\max{\\Big(U_0^p, U_M^p, U_i^0\\Big)}, \\quad p \\in [0,\\ n],\\quad i \\in [0,\\ M]\n",
    "\\end{align}$$"
   ]
  },
  {
   "cell_type": "markdown",
   "id": "c007eb63",
   "metadata": {},
   "source": [
    "$$\\begin{align*}\n",
    "    U_0^p &= u(x_0, t_p) &&= u(-1 + 0h,\\ 0 + kp) \\\\\n",
    "    & &&= g_L(t_p)  \\\\\n",
    "    U_M^p &= u(x_M, t_p) &&= u\\left(-1 + \\frac{2}{M}M,\\ 0 + kp\\right) \\\\\n",
    "    & &&= g_R(t_p) \\\\\n",
    "    U_i^0 &= u(x_i, t_0) &&= u\\left(-1 + \\frac{2}{M}i,\\ 0 + 0k\\right) \\\\\n",
    "    & &&= \\eta(x_i) \\\\\n",
    "    \\text{Min:} \\quad & && \\\\\n",
    "    && U_\\mathrm{min}^n &= \\min{\\Big(g_L(t_p),\\ g_R(t_p),\\ \\eta(x_i)\\Big)},\\quad p\\in [0,\\ n],\\quad i\\in [0, M] \\\\\n",
    "    \\text{Max:} \\quad & && \\\\\n",
    "    && U_\\mathrm{max}^n &= \\max{\\Big(g_L(t_p),\\ g_R(t_p),\\ \\eta(x_i)\\Big)},\\quad p\\in [0,\\ n],\\quad i\\in [0, M]\n",
    "\\end{align*}$$  "
   ]
  },
  {
   "cell_type": "markdown",
   "id": "b183f898",
   "metadata": {
    "vscode": {
     "languageId": "plaintext"
    }
   },
   "source": [
    "Remember: This only holds if, $\\mu \\leq \\frac12$.\n",
    "$$\\begin{align}\n",
    "    \\mu &= k\\frac{\\epsilon}{h^2} \\leq \\frac12 \\\\\n",
    "        &\\Rightarrow \\frac{k}{h^2} \\leq \\frac{1}{2\\epsilon} \n",
    "\\end{align}$$"
   ]
  },
  {
   "cell_type": "markdown",
   "id": "03a9fabe",
   "metadata": {},
   "source": [
    "This is excatly the same as in the previous exercise!"
   ]
  },
  {
   "cell_type": "markdown",
   "id": "60fd392b",
   "metadata": {},
   "source": [
    "## 2.4) Convergence of this scheme"
   ]
  },
  {
   "cell_type": "markdown",
   "id": "9d17c61e",
   "metadata": {},
   "source": [
    "Lets quickly establish the consistency of the method."
   ]
  },
  {
   "cell_type": "markdown",
   "id": "dcfa364d",
   "metadata": {},
   "source": [
    "### Consistency"
   ]
  },
  {
   "cell_type": "markdown",
   "id": "95410fc9",
   "metadata": {},
   "source": [
    "Consisency of a scheme says mesh-sizes tend to zero, $(k,h) \\to 0$, the finite difference method approaches the original PDE. Lets denote the actual PDE by $f$ and the FD by $F$. Again we use subscript $i$ to denote the $x$-value, and the superscript $n$ to denote the $t$-value, then\n",
    "$$\\tau_i^n = f_i^n - F_i^n \\to 0\\quad \\text{as}\\quad (k,h) \\to 0$$"
   ]
  },
  {
   "cell_type": "markdown",
   "id": "b318b3f8",
   "metadata": {
    "vscode": {
     "languageId": "plaintext"
    }
   },
   "source": [
    "with \n",
    "$$\\begin{align}\n",
    "f_i^n &= \\frac{\\partial u}{\\partial t}(x_i, t_n) - \\frac{\\partial^2 u}{\\partial x^2}u(x_i, t^n) = 0 \\\\\n",
    "F_i^n &= \\frac{U_i^{n+1} - U_i^{n}}{k} - \\epsilon\\left(\\frac{U_{i+1}^n - 2U_{i}^n + U_{i-1}^n}{h^2}\\right)\n",
    "\\end{align}$$"
   ]
  },
  {
   "cell_type": "markdown",
   "id": "017a1231",
   "metadata": {},
   "source": [
    "Remember that the PDE is exact, therefore $f_i^n = 0$ and we have the truncation error\n",
    "$$\\begin{align}\n",
    "    \\tau_i^n &= -F_i^n = \\epsilon\\left(\\frac{U_{i+1}^n - 2U_{i}^n + U_{i-1}^n}{h^2}\\right) - \\frac{U_i^{n+1} - U_i^{n}}{k}\n",
    "\\end{align}$$"
   ]
  },
  {
   "cell_type": "markdown",
   "id": "368f56da",
   "metadata": {},
   "source": [
    "For we can use a Taylors series around $(x_i,t_n)$ to get the:\n",
    "* Temporal derivative -- remmeber that $t_{n} = 0 + kn = t_{n-1} + k$\n",
    "$$\\begin{align}\n",
    "    u(x_i, t_{n+1}) &= u(x_i, t_n) + &&k\\frac{\\partial}{\\partial t} u(x_i,t_n) + \\frac{k^2}{2}\\frac{\\partial^2}{\\partial t^2} u(x_i, t_n) + \\mathcal{O}(k^3)\\\\\n",
    "    \\frac{U_i^{n+1} - U_i^{n}}{k} &= &&\\frac{\\partial}{\\partial t} u(x_i,t_n) + \\frac{k}{2}\\frac{\\partial^2}{\\partial t^2} u(x_i, t_n) + \\mathcal{O}(k^2)\\\\\n",
    " \\end{align}$$"
   ]
  },
  {
   "cell_type": "markdown",
   "id": "3083ecf7",
   "metadata": {},
   "source": [
    "* Spatial derivative -- remember that $x_i = -1 + hi = x_{i\\mp 1} \\pm h$\n",
    "$$\\begin{align}\n",
    "    u(x_{i\\pm1}, t_n) &= u(x_i, t_n) \\pm h\\frac{\\partial}{\\partial x}u(x_i,t_n) + &&\\frac{h^2}{2}\\frac{\\partial^2}{\\partial x^2}u(x_i,t_n) \\pm \\frac{h^3}{6}\\frac{\\partial^3}{\\partial x^3}u(x_i,t_n) + &\\frac{h^4}{24}\\frac{\\partial^4}{\\partial x^4}u(x_i,t_n) + \\mathcal{O}(h^5) \\\\\n",
    "    % u(x_{i-1}, t_n) &= u(x_i, t_n) - h\\frac{\\partial}{\\partial x}u(x_i,t_n) + \\frac{h^2}{2}\\frac{\\partial^2}{\\partial x^2}u(x_i,t_n) - \\frac{h^3}{6}\\frac{\\partial^3}{\\partial x^3}u(x_i,t_n) + \\frac{h^4}{24}\\frac{\\partial^4}{\\partial x^4}u(x_i,t_n) + \\mathcal{O}(h^5)\n",
    "    \\frac{U_{i+1}^n -2U_{i}^n + U_{i-1}^n}{h^2} &= &&\\frac{\\partial^2}{\\partial x^2}u(x_i,t_n) + &\\frac{h^2}{12}\\frac{\\partial^4}{\\partial x^4}u(x_i,t_n) + \\mathcal{O}(h^4)\n",
    "\\end{align}$$"
   ]
  },
  {
   "cell_type": "markdown",
   "id": "377bcc23",
   "metadata": {
    "vscode": {
     "languageId": "plaintext"
    }
   },
   "source": [
    "So, we can write the truncation error as \n",
    "$$\\begin{align}\n",
    "    \\tau_i^n = -F_i^n &= \\epsilon\\left(\\frac{\\partial^2}{\\partial x^2}u(x_i,t_n) + \\frac{h^2}{12}\\frac{\\partial^4}{\\partial x^4}u(x_i,t_n) + \\mathcal{O}(h^4)\\right) - \\left( \\frac{\\partial}{\\partial t} u(x_i,t_n) + \\frac{k}{2}\\frac{\\partial^2}{\\partial t^2} u(x_i, t_n) + \\mathcal{O}(k^2) \\right) \\\\\n",
    "        &= - \\underset{f_i^n=0}{\\underbrace{\\left( \\frac{\\partial}{\\partial t} u(x_i,t_n) - \\epsilon\\frac{\\partial^2}{\\partial x^2}u(x_i,t_n)\\right)}} + \\epsilon\\frac{h^2}{12}\\frac{\\partial^4}{\\partial x^4}u(x_i,t_n) - \\frac{k}{2}\\frac{\\partial^2}{\\partial t^2}u(x_i,t_n) + \\mathcal{O}(h^4 + k^2) \\\\\n",
    "        &= \\epsilon\\frac{h^2}{12}\\frac{\\partial^4}{\\partial x^4}u(x_i,t_n) - \\frac{k}{2}\\frac{\\partial^2}{\\partial t^2}u(x_i,t_n) + \\mathcal{O}(h^4 + k^2)\n",
    "\\end{align}$$"
   ]
  },
  {
   "cell_type": "markdown",
   "id": "25c0ae96",
   "metadata": {
    "vscode": {
     "languageId": "plaintext"
    }
   },
   "source": [
    "So the truncation error decreases as $\\mathcal{O}(h^2 + k)$ (the coefficients for the derivaties) as $(h,k)$ approaches zero."
   ]
  },
  {
   "cell_type": "markdown",
   "id": "39b2191c",
   "metadata": {
    "vscode": {
     "languageId": "plaintext"
    }
   },
   "source": [
    "Now, we can determine the convergence using the **Lax-Richtmyer theorem** a.k.a. **Lax equivalence theorem**"
   ]
  },
  {
   "cell_type": "markdown",
   "id": "eba37872",
   "metadata": {
    "vscode": {
     "languageId": "plaintext"
    }
   },
   "source": [
    "According to the theorem:\n",
    "$$\\vec{u}^{n+1} = (I + kA)\\vec{u}^n + k\\vec{g}(t)$$\n",
    "is stable if \n",
    "$$ ||(I + kA)^n|| \\leq C_T, \\quad 0 < k,\\quad kn \\leq T"
   ]
  },
  {
   "cell_type": "markdown",
   "id": "b1b2c130",
   "metadata": {
    "vscode": {
     "languageId": "plaintext"
    }
   },
   "source": [
    "From some mathematics it is known that the $L_2$-norm of a *symmetric*-matrix is euqal to its spectral radius ( the max of the absolute value of the eigenvalues), so we have:\n",
    "$$\\begin{align}\n",
    "    \\lvert\\lvert(I + kA)^n\\rvert\\rvert _2 = \\max_p{|(1+k\\lambda_p)^n|}\n",
    "\\end{align}$$"
   ]
  },
  {
   "cell_type": "markdown",
   "id": "7d0bbafb",
   "metadata": {},
   "source": [
    "Now, using that $|| A^n||_2 \\leq || A ||^n_2$ we write the equatio above as\n",
    "$$\\begin{align}\n",
    "    ||(I+kA)^n||_2\\leq ||I + kA||^n_2 = (\\max_p{|1+k\\lambda_p|})^n\n",
    "\\end{align}$$"
   ]
  },
  {
   "cell_type": "markdown",
   "id": "e12e4268",
   "metadata": {
    "vscode": {
     "languageId": "plaintext"
    }
   },
   "source": [
    "Which we have already establish to be less than or equal to 1\n",
    "$$\\begin{align}\n",
    "    ||(I+kA)^n||_2 \\leq 1^n = 1\n",
    "\\end{align}$$"
   ]
  },
  {
   "cell_type": "markdown",
   "id": "0a66cea9",
   "metadata": {},
   "source": [
    "So, we have that $C_T = 1$ and that the expression is Lax-Richtmyer stable"
   ]
  },
  {
   "cell_type": "markdown",
   "id": "b043cccd",
   "metadata": {
    "vscode": {
     "languageId": "plaintext"
    }
   },
   "source": [
    "Now, for the convergence we use slide 19 from the lecture on parabolic PDE's which say that if $||\\tau^n|| = \\mathcal{O}(k^p + h^q)$ the bound on ||e^N|| can be expanded to $||e^N|| = \\mathcal{O}(k^p + h^q)$ as $(k,h) \\to 0$, for a finite time $T=kN$"
   ]
  }
 ],
 "metadata": {
  "language_info": {
   "name": "python"
  }
 },
 "nbformat": 4,
 "nbformat_minor": 5
}

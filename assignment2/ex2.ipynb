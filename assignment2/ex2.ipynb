{
 "cells": [
  {
   "cell_type": "markdown",
   "id": "636c8cc4",
   "metadata": {},
   "source": [
    "# Exercise 2: Purely parabolic model problem"
   ]
  },
  {
   "cell_type": "markdown",
   "id": "98289e12",
   "metadata": {},
   "source": [
    "Consider the PDE:\n",
    "$$\\begin{align}\n",
    "    \\frac{\\partial u(x,t)}{\\partial t} = \\epsilon \\frac{\\partial^2 u(x,t)}{\\partial x^2} \\\\ -1< x < 1, \\quad 0 < t\n",
    "\\end{align}$$"
   ]
  },
  {
   "cell_type": "markdown",
   "id": "c79f679f",
   "metadata": {},
   "source": [
    "with Dirichlet boundary conditions:\n",
    "$$\\begin{align}\n",
    "    u(-1, t) &= g_L(t), \\quad t > 0 \\\\\n",
    "    u(1, t) &= g_R(t), \\quad t > 0 \\\\\n",
    "    u(x,0) &= \\eta(x), \\quad -1\\leq x \\leq 1\n",
    "\\end{align}$$"
   ]
  },
  {
   "cell_type": "markdown",
   "id": "19fe80ba",
   "metadata": {},
   "source": [
    "## Subtask 2.1) Deriving a FTCS scheme\n"
   ]
  }
 ],
 "metadata": {
  "language_info": {
   "name": "python"
  }
 },
 "nbformat": 4,
 "nbformat_minor": 5
}

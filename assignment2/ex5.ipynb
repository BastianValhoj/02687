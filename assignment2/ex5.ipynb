{
 "cells": [
  {
   "cell_type": "markdown",
   "id": "1c9e5ccf",
   "metadata": {},
   "source": [
    "# Solving diffusion equation using Keras/TensorFlow"
   ]
  },
  {
   "cell_type": "code",
   "execution_count": 2,
   "id": "95edab35",
   "metadata": {},
   "outputs": [],
   "source": [
    "from tensorflow.keras import layers\n",
    "from tensorflow import keras\n",
    "import tensorflow as tf\n",
    "import numpy as np\n",
    "import matplotlib.pyplot as plt"
   ]
  },
  {
   "cell_type": "markdown",
   "id": "f4673991",
   "metadata": {},
   "source": [
    "## Parameters for diffusion equation"
   ]
  },
  {
   "cell_type": "code",
   "execution_count": 3,
   "id": "7042c6b4",
   "metadata": {},
   "outputs": [],
   "source": [
    "eps = 0.1\n",
    "xmin = -1.\n",
    "xmax = 1.\n",
    "t_min = 0.\n",
    "t_max = 1."
   ]
  },
  {
   "cell_type": "code",
   "execution_count": 4,
   "id": "1786895a",
   "metadata": {},
   "outputs": [],
   "source": [
    "alpha = np.array([1, 4, 16])\n",
    "def trial(x, t):\n",
    "    S = 0\n",
    "    for a in alpha:\n",
    "        S += np.exp(-eps*a**2*t)*np.cos(a*x) \n",
    "    return S\n"
   ]
  },
  {
   "cell_type": "code",
   "execution_count": null,
   "id": "081fd74e",
   "metadata": {},
   "outputs": [],
   "source": []
  }
 ],
 "metadata": {
  "kernelspec": {
   "display_name": "tf_venv",
   "language": "python",
   "name": "python3"
  },
  "language_info": {
   "codemirror_mode": {
    "name": "ipython",
    "version": 3
   },
   "file_extension": ".py",
   "mimetype": "text/x-python",
   "name": "python",
   "nbconvert_exporter": "python",
   "pygments_lexer": "ipython3",
   "version": "3.12.3"
  }
 },
 "nbformat": 4,
 "nbformat_minor": 5
}

{
 "cells": [
  {
   "cell_type": "markdown",
   "id": "42a561f7",
   "metadata": {},
   "source": [
    "# Non-Linear advection-diffusion equation"
   ]
  },
  {
   "cell_type": "markdown",
   "id": "d009e316",
   "metadata": {},
   "source": [
    "$$\\begin{align*}\n",
    "    \\partial_tu(x,t)  + \\frac12 \\partial_x \\Big(u(x,t)^2\\Big) &= \\epsilon\\partial_{xx}u(x,t), & & & & & -1 &< x <1,\\quad t > 0\\\\\n",
    "            u(-1,t) &= g_L(t),  & & & & & t &> 0, \\\\\n",
    "            u(1, t) &= g_R(t),  & & & & & t &> 0, \\\\ \n",
    "            u(x, 0) &= \\eta(x), & & & & & -1 &\\leq x \\leq 1\n",
    "\\end{align*}$$"
   ]
  },
  {
   "cell_type": "markdown",
   "id": "68cac2df",
   "metadata": {},
   "source": [
    "### Check that the suggested solution is correct"
   ]
  },
  {
   "cell_type": "code",
   "execution_count": 17,
   "id": "2040835d",
   "metadata": {},
   "outputs": [],
   "source": [
    "from sympy import init_printing, symbols, diff, tanh, Equivalent, Eq\n",
    "init_printing()"
   ]
  },
  {
   "cell_type": "code",
   "execution_count": 6,
   "id": "0f202b09",
   "metadata": {},
   "outputs": [
    {
     "data": {
      "image/png": "[encoded data removed]",
      "text/latex": [
       "$\\displaystyle 1 - \\tanh{\\left(\\frac{- t + x + 0.5}{2 \\epsilon} \\right)}$"
      ],
      "text/plain": [
       "        ⎛-t + x + 0.5⎞\n",
       "1 - tanh⎜────────────⎟\n",
       "        ⎝    2⋅ε     ⎠"
      ]
     },
     "execution_count": 6,
     "metadata": {},
     "output_type": "execute_result"
    }
   ],
   "source": [
    "x, eps, t = symbols(\"x epsilon t\")\n",
    "u = -tanh((x + 0.5 - t) / (2*eps)) + 1\n",
    "u"
   ]
  },
  {
   "cell_type": "code",
   "execution_count": 28,
   "id": "98a60ccb",
   "metadata": {},
   "outputs": [
    {
     "data": {
      "image/png": "[encoded data removed]",
      "text/latex": [
       "$\\displaystyle \\frac{0.5 \\tanh{\\left(\\frac{- t + x + 0.5}{2 \\epsilon} \\right)}}{\\epsilon \\cosh^{2}{\\left(\\frac{- t + x + 0.5}{2 \\epsilon} \\right)}}$"
      ],
      "text/plain": [
       "        ⎛-t + x + 0.5⎞\n",
       "0.5⋅tanh⎜────────────⎟\n",
       "        ⎝    2⋅ε     ⎠\n",
       "──────────────────────\n",
       "      2⎛-t + x + 0.5⎞ \n",
       "ε⋅cosh ⎜────────────⎟ \n",
       "       ⎝    2⋅ε     ⎠ "
      ]
     },
     "execution_count": 28,
     "metadata": {},
     "output_type": "execute_result"
    }
   ],
   "source": [
    "LHS = diff(u, t) + 0.5*diff(u**2, x)\n",
    "LHS = LHS.simplify()\n",
    "LHS"
   ]
  },
  {
   "cell_type": "code",
   "execution_count": 29,
   "id": "63e2f584",
   "metadata": {},
   "outputs": [
    {
     "data": {
      "image/png": "[encoded data removed]",
      "text/latex": [
       "$\\displaystyle \\frac{\\tanh{\\left(\\frac{- t + x + 0.5}{2 \\epsilon} \\right)}}{2 \\epsilon \\cosh^{2}{\\left(\\frac{- t + x + 0.5}{2 \\epsilon} \\right)}}$"
      ],
      "text/plain": [
       "      ⎛-t + x + 0.5⎞   \n",
       "  tanh⎜────────────⎟   \n",
       "      ⎝    2⋅ε     ⎠   \n",
       "───────────────────────\n",
       "        2⎛-t + x + 0.5⎞\n",
       "2⋅ε⋅cosh ⎜────────────⎟\n",
       "         ⎝    2⋅ε     ⎠"
      ]
     },
     "execution_count": 29,
     "metadata": {},
     "output_type": "execute_result"
    }
   ],
   "source": [
    "RHS = eps*diff(u, x,2)\n",
    "RHS = RHS.simplify()\n",
    "RHS"
   ]
  },
  {
   "cell_type": "code",
   "execution_count": 30,
   "id": "78d3b9ba",
   "metadata": {},
   "outputs": [
    {
     "data": {
      "image/png": "[encoded data removed]",
      "text/latex": [
       "$\\displaystyle \\text{True}$"
      ],
      "text/plain": [
       "True"
      ]
     },
     "execution_count": 30,
     "metadata": {},
     "output_type": "execute_result"
    }
   ],
   "source": [
    "Eq(LHS, RHS)"
   ]
  },
  {
   "cell_type": "markdown",
   "id": "07cf00f3",
   "metadata": {},
   "source": [
    "# FD scheme"
   ]
  },
  {
   "cell_type": "markdown",
   "id": "f8b4b847",
   "metadata": {},
   "source": [
    "Approximate the diffusion part as central space, and the advection part a backward space, and finally the timederivative using forward time\n"
   ]
  },
  {
   "cell_type": "markdown",
   "id": "a1a6ad58",
   "metadata": {},
   "source": [
    "$$\\begin{align}\n",
    "    \\partial_t u(x_i,t_n) &\\approx  \\frac{U_i^{n+1} - U_i^{n}}{k} \\\\\n",
    "    \\epsilon\\partial_{xx} u(x_i,t_n) &\\approx \\epsilon\\frac{U_{i+1}^n - 2U_i^n + U_{i-1}^n}{h^2} \\\\\n",
    "    \\frac{1}{2}\\partial_x \\Big(u(x_i,t_n)^2\\Big) = \\frac{1}{2}\\partial_x F(U_i^n) &\\approx \\frac{1}{2} \\left(\\frac{F(U_{i}^n) - F(U_{i-1}^n)}{\\kappa}\\right)\n",
    "\\end{align}$$"
   ]
  },
  {
   "cell_type": "markdown",
   "id": "46b2df13",
   "metadata": {},
   "source": [
    "# Determing stability using method from exercise 3"
   ]
  },
  {
   "cell_type": "markdown",
   "id": "4df32a63",
   "metadata": {},
   "source": [
    "$$\\begin{align}\n",
    "    U_j^{n+1} &= U_j^n - \\frac{k}{2h}\\Big(F(U_j^n) - F(U_{j-1}^n)\\Big) + \\frac{k\\epsilon}{h^2}\\Big(U_{j+1}^n - 2U_j^n + U_{j-1}^n\\Big) \\\\\n",
    "    \n",
    "    \\xi^{n+1}e^{ijh} &= \\xi^ne^{i jh} - \\frac{k}{2h}\\left( \\Big(\\xi^ne^{ijh}\\Big)^2 + \\Big(\\xi^ne^{i(j-1)h}\\Big)^2 \\right) + \\frac{k\\epsilon}{h^2}\\left( \\xi^n e^{i(j+1)h} - \\xi^ne^{i jh} + \\xi^ne^{i(j-1)h}\\right),\\quad U_j^{n} = \\xi^ne^{i jh} \\\\\n",
    "    \\xi^{n+1}e^{ijh} &= \\xi^ne^{i jh} - \\frac{k}{2h}\\left( \\xi^ne^{2ijh} + \\xi^ne^{2i(j-1)h} \\right) + \\frac{k\\epsilon}{h^2}\\left( \\xi^n e^{i(j+1)h} - \\xi^ne^{i jh} + \\xi^ne^{i(j-1)h}\\right),\\quad U_j^{n} = \\xi^ne^{i jh}\n",
    "\n",
    "\\end{align}$$"
   ]
  },
  {
   "cell_type": "markdown",
   "id": "5e714585",
   "metadata": {},
   "source": [
    "$$\\begin{align}\n",
    "    \\xi &= 1 - \\frac{k}{2h}\\left(\\xi^ne^{ijh} + \\xi^ne^{i(j-2)h}\\right) + \\frac{k\\epsilon}{h^2}\\left(e^{ih} - 2 + e^{-ih}\\right)\n",
    "\\end{align}$$"
   ]
  }
 ],
 "metadata": {
  "kernelspec": {
   "display_name": "02687",
   "language": "python",
   "name": "python3"
  },
  "language_info": {
   "codemirror_mode": {
    "name": "ipython",
    "version": 3
   },
   "file_extension": ".py",
   "mimetype": "text/x-python",
   "name": "python",
   "nbconvert_exporter": "python",
   "pygments_lexer": "ipython3",
   "version": "3.13.2"
  }
 },
 "nbformat": 4,
 "nbformat_minor": 5
}

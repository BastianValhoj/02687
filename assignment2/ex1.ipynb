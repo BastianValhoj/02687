{
 "cells": [
  {
   "cell_type": "code",
   "execution_count": 7,
   "metadata": {},
   "outputs": [],
   "source": [
    "import numpy as np\n",
    "from scipy import linalg\n",
    "from scipy.sparse import diags, csc_matrix, kron\n",
    "from scipy.sparse import linalg as spla\n",
    "import matplotlib.pyplot as plt\n",
    "from pathlib import Path"
   ]
  },
  {
   "cell_type": "markdown",
   "metadata": {},
   "source": [
    "## Helper functions"
   ]
  },
  {
   "cell_type": "code",
   "execution_count": 9,
   "metadata": {},
   "outputs": [],
   "source": [
    "def printmatrix(mat, **kwargs):\n",
    "    fp = kwargs.get(\"fp\", 3)    # number of floating points\n",
    "    bs = kwargs.get(\"bs\", 8)   # number of blank-spaces\n",
    "    format_dict = {\n",
    "        'float_kind': lambda x: f\"{x:>{bs}.{fp}f}\",\n",
    "        'bool': lambda x: False if x == 0 else True,\n",
    "        }\n",
    "    formatter = kwargs.get(\"formatter\", format_dict)\n",
    "    linewidth = kwargs.get(\"linewidth\", None)\n",
    "    if linewidth is None:\n",
    "        linewidth = kwargs.get(\"lw\", 100)\n",
    "    with np.printoptions(formatter=formatter, linewidth=linewidth):\n",
    "        print(mat)"
   ]
  },
  {
   "cell_type": "markdown",
   "metadata": {},
   "source": [
    "## Create folder for figures"
   ]
  },
  {
   "cell_type": "code",
   "execution_count": 11,
   "metadata": {},
   "outputs": [],
   "source": [
    "# make directory if not already present\n",
    "assignment_dir = Path.cwd() # directory for this working directory (if using notebook, it will be the direcotry of notebook)\n",
    "figures_dir = assignment_dir / \"figures\" # figures directory\n",
    "figures_dir.mkdir(parents=True, exist_ok=True) # create folder and parent directories, if not already existing."
   ]
  },
  {
   "cell_type": "markdown",
   "metadata": {},
   "source": [
    "# Exercise 1 Design ODE solver"
   ]
  },
  {
   "cell_type": "markdown",
   "metadata": {},
   "source": [
    "## Subtask 1.1)"
   ]
  },
  {
   "cell_type": "code",
   "execution_count": null,
   "metadata": {},
   "outputs": [],
   "source": [
    "\n"
   ]
  }
 ],
 "metadata": {
  "kernelspec": {
   "display_name": "02687",
   "language": "python",
   "name": "python3"
  },
  "language_info": {
   "codemirror_mode": {
    "name": "ipython",
    "version": 3
   },
   "file_extension": ".py",
   "mimetype": "text/x-python",
   "name": "python",
   "nbconvert_exporter": "python",
   "pygments_lexer": "ipython3",
   "version": "3.13.2"
  }
 },
 "nbformat": 4,
 "nbformat_minor": 2
}

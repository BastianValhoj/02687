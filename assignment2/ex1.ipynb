{
 "cells": [
  {
   "cell_type": "code",
   "execution_count": 4,
   "metadata": {},
   "outputs": [],
   "source": [
    "import numpy as np\n",
    "from scipy import linalg\n",
    "from scipy.sparse import diags, csc_matrix, kron\n",
    "from scipy.sparse import linalg as spla\n",
    "import matplotlib.pyplot as plt\n",
    "from pathlib import Path"
   ]
  },
  {
   "cell_type": "markdown",
   "metadata": {},
   "source": [
    "## Helper functions"
   ]
  },
  {
   "cell_type": "code",
   "execution_count": 5,
   "metadata": {},
   "outputs": [],
   "source": [
    "def printmatrix(mat, **kwargs):\n",
    "    fp = kwargs.get(\"fp\", 3)    # number of floating points\n",
    "    bs = kwargs.get(\"bs\", 8)   # number of blank-spaces\n",
    "    format_dict = {\n",
    "        'float_kind': lambda x: f\"{x:>{bs}.{fp}f}\",\n",
    "        'bool': lambda x: False if x == 0 else True,\n",
    "        }\n",
    "    formatter = kwargs.get(\"formatter\", format_dict)\n",
    "    linewidth = kwargs.get(\"linewidth\", None)\n",
    "    if linewidth is None:\n",
    "        linewidth = kwargs.get(\"lw\", 100)\n",
    "    with np.printoptions(formatter=formatter, linewidth=linewidth):\n",
    "        print(mat)"
   ]
  },
  {
   "cell_type": "markdown",
   "metadata": {},
   "source": [
    "## Create folder for figures"
   ]
  },
  {
   "cell_type": "code",
   "execution_count": 6,
   "metadata": {},
   "outputs": [],
   "source": [
    "# make directory if not already present\n",
    "assignment_dir = Path.cwd() # directory for this working directory (if using notebook, it will be the direcotry of notebook)\n",
    "figures_dir = assignment_dir / \"figures\" # figures directory\n",
    "figures_dir.mkdir(parents=True, exist_ok=True) # create folder and parent directories, if not already existing."
   ]
  },
  {
   "cell_type": "markdown",
   "metadata": {},
   "source": [
    "# Exercise 1 Design ODE solver"
   ]
  },
  {
   "cell_type": "markdown",
   "metadata": {},
   "source": [
    "## Subtask 1.1)"
   ]
  },
  {
   "cell_type": "markdown",
   "metadata": {},
   "source": [
    "The exercise references seciton 5.5 in Ensiger-Karraup & Thomsen (2018), which is a walkthrough of RK-23.\n",
    "The method for constructing a Runge-Kutta, is\n",
    "\n",
    "$$\\begin{align*}\n",
    "    \\xi_1 &= y_n \\\\\n",
    "    \\xi_2 &= y_n + a_{2,1} f(t_n, \\xi_1)\\\\\n",
    "    \\xi_3 &= y_n + a_{3,1}f(t_n, \\xi_1) + a_{3,2}f(t_n + c_2h, \\xi_2) \\\\\n",
    "    y_{n+1} &= y_n + h(b_1 f(t_n, \\xi_1) + b_2f(t_n + c_2h,\\xi_2) + b_3 f(t_n + c_3h, \\xi) ) \\\\\n",
    "        &= y_n + h\\sum_{i=1}^3 b_i f(t_i, \\xi_i), \\quad t_i = t_n + c_ih \\\\\n",
    "    e_{n+1} &= h\\sum_{i=1}^3 d_i f(t_i, \\xi_i)\n",
    "\\end{align*}$$"
   ]
  },
  {
   "cell_type": "markdown",
   "metadata": {},
   "source": [
    "Then we construct a Buthcers scheme\n",
    "$$\\begin{align*}\n",
    "    \\begin{array}{c|ccc}\n",
    "    c_1     & 0         &           &   \\\\\n",
    "    c_2     & a_{2,1}   &       0   &   \\\\\n",
    "    c_3     & a_{3,1}   & a_{3,2}   & 0 \\\\\\hline\n",
    "    \\vec{b} & b_1       & b_2       & b_3 \\\\\\hline\n",
    "    \\vec{d} & d_1       & d_2       & d_3\n",
    "    \\end{array}\n",
    "\\end{align*}$$"
   ]
  },
  {
   "cell_type": "markdown",
   "metadata": {},
   "source": [
    "We need to have \n",
    "$$ c_1 = 0, \\quad c_2 = a_{2,1}, \\quad c_3 = a_{3,1} + a_{3,2} $$"
   ]
  },
  {
   "cell_type": "code",
   "execution_count": null,
   "metadata": {},
   "outputs": [
    {
     "ename": "SyntaxError",
     "evalue": "invalid syntax (1548412735.py, line 17)",
     "output_type": "error",
     "traceback": [
      "\u001b[1;36m  Cell \u001b[1;32mIn[7], line 17\u001b[1;36m\u001b[0m\n\u001b[1;33m    xi_3 = yn + A[2,0]*h*\u001b[0m\n\u001b[1;37m                         ^\u001b[0m\n\u001b[1;31mSyntaxError\u001b[0m\u001b[1;31m:\u001b[0m invalid syntax\n"
     ]
    }
   ],
   "source": [
    "def _step_rk23(f, tn, yn, h, **kwargs):\n",
    "    reps = kwargs.get(\"reps\", 1e-4)\n",
    "    aeps = kwargs.get(\"aeps\", 1e-6)\n",
    "    delta = kwargs.get(\"delta\", 2e-2)\n",
    "    \n",
    "    # from p. 51, table 5.3 in Engsig-Kaarup & Thomsen (2018)\n",
    "    C = np.array([0, 1/2, 1])\n",
    "    A = np.array([[0,   0, 0],\n",
    "                  [1/2, 0, 0],\n",
    "                  [-1,  2, 0]])\n",
    "    b = np.array([1/6, 1/3, 1/6]) # 3rd order\n",
    "    d = np.array([1/12, -1/6, 1/12]) # 2nd order\n",
    "    \n",
    "    xi = np.empty(shape=(3,))\n",
    "    ti = tn + C*h\n",
    "    # F = f(ti, xi)\n",
    "    xi[0] = yn\n",
    "    xi[1] = yn + A[1,0]*h*f(tn, xi[0])\n",
    "    xi[2] = yn + h*(A[2,0]*f(tn, xi[0]) + A[2,1]*f(tn+C[1]*h, xi[1]))\n",
    "    y_new = yn + h*b@f(ti, xi)\n",
    "    \n",
    "    error = h*d@f(ti, xi)\n",
    "    \n",
    "    success = (error < reps*np.abs(y_new) + aeps) # True/false \n",
    "    \n",
    "    return \n",
    "    \n",
    "    \n",
    "    "
   ]
  },
  {
   "cell_type": "code",
   "execution_count": null,
   "metadata": {},
   "outputs": [],
   "source": []
  }
 ],
 "metadata": {
  "kernelspec": {
   "display_name": "02687",
   "language": "python",
   "name": "python3"
  },
  "language_info": {
   "codemirror_mode": {
    "name": "ipython",
    "version": 3
   },
   "file_extension": ".py",
   "mimetype": "text/x-python",
   "name": "python",
   "nbconvert_exporter": "python",
   "pygments_lexer": "ipython3",
   "version": "3.13.2"
  }
 },
 "nbformat": 4,
 "nbformat_minor": 2
}
